{
 "cells": [
  {
   "cell_type": "markdown",
   "metadata": {},
   "source": [
    "## Importing Libraries"
   ]
  },
  {
   "cell_type": "code",
   "execution_count": 1,
   "metadata": {},
   "outputs": [],
   "source": [
    "%load_ext Cython"
   ]
  },
  {
   "cell_type": "markdown",
   "metadata": {},
   "source": [
    "## Doc Example"
   ]
  },
  {
   "cell_type": "code",
   "execution_count": 2,
   "metadata": {},
   "outputs": [
    {
     "name": "stdout",
     "output_type": "stream",
     "text": [
      "45\n"
     ]
    }
   ],
   "source": [
    "%%cython\n",
    "\n",
    "a: cython.int = 0\n",
    "for i in range(10):\n",
    "    a += i\n",
    "print(a)"
   ]
  },
  {
   "cell_type": "markdown",
   "metadata": {},
   "source": [
    "## Square Function"
   ]
  },
  {
   "cell_type": "markdown",
   "metadata": {},
   "source": [
    "### Pure Python"
   ]
  },
  {
   "cell_type": "code",
   "execution_count": 28,
   "metadata": {},
   "outputs": [],
   "source": [
    "def square(x:int) -> int:\n",
    "    return x*x"
   ]
  },
  {
   "cell_type": "markdown",
   "metadata": {},
   "source": [
    "### Cython"
   ]
  },
  {
   "cell_type": "code",
   "execution_count": 29,
   "metadata": {},
   "outputs": [],
   "source": [
    "import cython\n",
    "\n",
    "@cython.cfunc\n",
    "def csquare(x: cython.int) -> cython.int:\n",
    "    return x **2\n"
   ]
  },
  {
   "cell_type": "markdown",
   "metadata": {},
   "source": [
    "### Compiled"
   ]
  },
  {
   "cell_type": "code",
   "execution_count": 32,
   "metadata": {},
   "outputs": [],
   "source": [
    "@cython.compile\n",
    "def ccsquare(x: cython.int) -> cython.int:\n",
    "    return x **2"
   ]
  },
  {
   "cell_type": "markdown",
   "metadata": {},
   "source": [
    "## Timeit"
   ]
  },
  {
   "cell_type": "code",
   "execution_count": 30,
   "metadata": {},
   "outputs": [
    {
     "name": "stdout",
     "output_type": "stream",
     "text": [
      "52.7 ns ± 1.09 ns per loop (mean ± std. dev. of 7 runs, 10,000,000 loops each)\n"
     ]
    }
   ],
   "source": [
    "%%timeit\n",
    "csquare(1000)"
   ]
  },
  {
   "cell_type": "code",
   "execution_count": 31,
   "metadata": {},
   "outputs": [
    {
     "name": "stdout",
     "output_type": "stream",
     "text": [
      "41.7 ns ± 0.223 ns per loop (mean ± std. dev. of 7 runs, 10,000,000 loops each)\n"
     ]
    }
   ],
   "source": [
    "%%timeit \n",
    "square(1000)"
   ]
  },
  {
   "cell_type": "code",
   "execution_count": 33,
   "metadata": {},
   "outputs": [
    {
     "name": "stderr",
     "output_type": "stream",
     "text": [
      "\n",
      "Error compiling Cython file:\n",
      "------------------------------------------------------------\n",
      "...\n",
      "cython.int) -> cython.int:\n",
      "          ^\n",
      "------------------------------------------------------------\n",
      "\n",
      "(tree fragment):1:10: Syntax error in simple statement list\n"
     ]
    },
    {
     "ename": "CompileError",
     "evalue": "\nError compiling Cython file:\n------------------------------------------------------------\n...\ncython.int) -> cython.int:\n          ^\n------------------------------------------------------------\n\n(tree fragment):1:10: Syntax error in simple statement list",
     "output_type": "error",
     "traceback": [
      "\u001b[0;31m---------------------------------------------------------------------------\u001b[0m",
      "\u001b[0;31mCompileError\u001b[0m                              Traceback (most recent call last)",
      "Cell \u001b[0;32mIn[33], line 1\u001b[0m\n\u001b[0;32m----> 1\u001b[0m \u001b[43mget_ipython\u001b[49m\u001b[43m(\u001b[49m\u001b[43m)\u001b[49m\u001b[38;5;241;43m.\u001b[39;49m\u001b[43mrun_cell_magic\u001b[49m\u001b[43m(\u001b[49m\u001b[38;5;124;43m'\u001b[39;49m\u001b[38;5;124;43mtimeit\u001b[39;49m\u001b[38;5;124;43m'\u001b[39;49m\u001b[43m,\u001b[49m\u001b[43m \u001b[49m\u001b[38;5;124;43m'\u001b[39;49m\u001b[38;5;124;43m'\u001b[39;49m\u001b[43m,\u001b[49m\u001b[43m \u001b[49m\u001b[38;5;124;43m'\u001b[39;49m\u001b[38;5;124;43mccsquare(1000)\u001b[39;49m\u001b[38;5;130;43;01m\\n\u001b[39;49;00m\u001b[38;5;124;43m'\u001b[39;49m\u001b[43m)\u001b[49m\n",
      "File \u001b[0;32m~/Desktop/dev/env/env39/lib/python3.11/site-packages/IPython/core/interactiveshell.py:2541\u001b[0m, in \u001b[0;36mInteractiveShell.run_cell_magic\u001b[0;34m(self, magic_name, line, cell)\u001b[0m\n\u001b[1;32m   2539\u001b[0m \u001b[38;5;28;01mwith\u001b[39;00m \u001b[38;5;28mself\u001b[39m\u001b[38;5;241m.\u001b[39mbuiltin_trap:\n\u001b[1;32m   2540\u001b[0m     args \u001b[38;5;241m=\u001b[39m (magic_arg_s, cell)\n\u001b[0;32m-> 2541\u001b[0m     result \u001b[38;5;241m=\u001b[39m \u001b[43mfn\u001b[49m\u001b[43m(\u001b[49m\u001b[38;5;241;43m*\u001b[39;49m\u001b[43margs\u001b[49m\u001b[43m,\u001b[49m\u001b[43m \u001b[49m\u001b[38;5;241;43m*\u001b[39;49m\u001b[38;5;241;43m*\u001b[39;49m\u001b[43mkwargs\u001b[49m\u001b[43m)\u001b[49m\n\u001b[1;32m   2543\u001b[0m \u001b[38;5;66;03m# The code below prevents the output from being displayed\u001b[39;00m\n\u001b[1;32m   2544\u001b[0m \u001b[38;5;66;03m# when using magics with decorator @output_can_be_silenced\u001b[39;00m\n\u001b[1;32m   2545\u001b[0m \u001b[38;5;66;03m# when the last Python token in the expression is a ';'.\u001b[39;00m\n\u001b[1;32m   2546\u001b[0m \u001b[38;5;28;01mif\u001b[39;00m \u001b[38;5;28mgetattr\u001b[39m(fn, magic\u001b[38;5;241m.\u001b[39mMAGIC_OUTPUT_CAN_BE_SILENCED, \u001b[38;5;28;01mFalse\u001b[39;00m):\n",
      "File \u001b[0;32m~/Desktop/dev/env/env39/lib/python3.11/site-packages/IPython/core/magics/execution.py:1185\u001b[0m, in \u001b[0;36mExecutionMagics.timeit\u001b[0;34m(self, line, cell, local_ns)\u001b[0m\n\u001b[1;32m   1183\u001b[0m \u001b[38;5;28;01mfor\u001b[39;00m index \u001b[38;5;129;01min\u001b[39;00m \u001b[38;5;28mrange\u001b[39m(\u001b[38;5;241m0\u001b[39m, \u001b[38;5;241m10\u001b[39m):\n\u001b[1;32m   1184\u001b[0m     number \u001b[38;5;241m=\u001b[39m \u001b[38;5;241m10\u001b[39m \u001b[38;5;241m*\u001b[39m\u001b[38;5;241m*\u001b[39m index\n\u001b[0;32m-> 1185\u001b[0m     time_number \u001b[38;5;241m=\u001b[39m \u001b[43mtimer\u001b[49m\u001b[38;5;241;43m.\u001b[39;49m\u001b[43mtimeit\u001b[49m\u001b[43m(\u001b[49m\u001b[43mnumber\u001b[49m\u001b[43m)\u001b[49m\n\u001b[1;32m   1186\u001b[0m     \u001b[38;5;28;01mif\u001b[39;00m time_number \u001b[38;5;241m>\u001b[39m\u001b[38;5;241m=\u001b[39m \u001b[38;5;241m0.2\u001b[39m:\n\u001b[1;32m   1187\u001b[0m         \u001b[38;5;28;01mbreak\u001b[39;00m\n",
      "File \u001b[0;32m~/Desktop/dev/env/env39/lib/python3.11/site-packages/IPython/core/magics/execution.py:173\u001b[0m, in \u001b[0;36mTimer.timeit\u001b[0;34m(self, number)\u001b[0m\n\u001b[1;32m    171\u001b[0m gc\u001b[38;5;241m.\u001b[39mdisable()\n\u001b[1;32m    172\u001b[0m \u001b[38;5;28;01mtry\u001b[39;00m:\n\u001b[0;32m--> 173\u001b[0m     timing \u001b[38;5;241m=\u001b[39m \u001b[38;5;28;43mself\u001b[39;49m\u001b[38;5;241;43m.\u001b[39;49m\u001b[43minner\u001b[49m\u001b[43m(\u001b[49m\u001b[43mit\u001b[49m\u001b[43m,\u001b[49m\u001b[43m \u001b[49m\u001b[38;5;28;43mself\u001b[39;49m\u001b[38;5;241;43m.\u001b[39;49m\u001b[43mtimer\u001b[49m\u001b[43m)\u001b[49m\n\u001b[1;32m    174\u001b[0m \u001b[38;5;28;01mfinally\u001b[39;00m:\n\u001b[1;32m    175\u001b[0m     \u001b[38;5;28;01mif\u001b[39;00m gcold:\n",
      "File \u001b[0;32m<magic-timeit>:1\u001b[0m, in \u001b[0;36minner\u001b[0;34m(_it, _timer)\u001b[0m\n",
      "File \u001b[0;32m~/Desktop/dev/env/env39/lib/python3.11/site-packages/Cython/Build/Inline.py:365\u001b[0m, in \u001b[0;36mRuntimeCompiledFunction.__call__\u001b[0;34m(self, *args, **kwds)\u001b[0m\n\u001b[1;32m    363\u001b[0m \u001b[38;5;28mall\u001b[39m \u001b[38;5;241m=\u001b[39m inspect\u001b[38;5;241m.\u001b[39mgetcallargs(\u001b[38;5;28mself\u001b[39m\u001b[38;5;241m.\u001b[39m_f, \u001b[38;5;241m*\u001b[39margs, \u001b[38;5;241m*\u001b[39m\u001b[38;5;241m*\u001b[39mkwds)\n\u001b[1;32m    364\u001b[0m \u001b[38;5;28;01mif\u001b[39;00m IS_PY3:\n\u001b[0;32m--> 365\u001b[0m     \u001b[38;5;28;01mreturn\u001b[39;00m \u001b[43mcython_inline\u001b[49m\u001b[43m(\u001b[49m\u001b[38;5;28;43mself\u001b[39;49m\u001b[38;5;241;43m.\u001b[39;49m\u001b[43m_body\u001b[49m\u001b[43m,\u001b[49m\u001b[43m \u001b[49m\u001b[38;5;28;43mlocals\u001b[39;49m\u001b[38;5;241;43m=\u001b[39;49m\u001b[38;5;28;43mself\u001b[39;49m\u001b[38;5;241;43m.\u001b[39;49m\u001b[43m_f\u001b[49m\u001b[38;5;241;43m.\u001b[39;49m\u001b[38;5;18;43m__globals__\u001b[39;49m\u001b[43m,\u001b[49m\u001b[43m \u001b[49m\u001b[38;5;28;43mglobals\u001b[39;49m\u001b[38;5;241;43m=\u001b[39;49m\u001b[38;5;28;43mself\u001b[39;49m\u001b[38;5;241;43m.\u001b[39;49m\u001b[43m_f\u001b[49m\u001b[38;5;241;43m.\u001b[39;49m\u001b[38;5;18;43m__globals__\u001b[39;49m\u001b[43m,\u001b[49m\u001b[43m \u001b[49m\u001b[38;5;241;43m*\u001b[39;49m\u001b[38;5;241;43m*\u001b[39;49m\u001b[38;5;28;43mall\u001b[39;49m\u001b[43m)\u001b[49m\n\u001b[1;32m    366\u001b[0m \u001b[38;5;28;01melse\u001b[39;00m:\n\u001b[1;32m    367\u001b[0m     \u001b[38;5;28;01mreturn\u001b[39;00m cython_inline(\u001b[38;5;28mself\u001b[39m\u001b[38;5;241m.\u001b[39m_body, \u001b[38;5;28mlocals\u001b[39m\u001b[38;5;241m=\u001b[39m\u001b[38;5;28mself\u001b[39m\u001b[38;5;241m.\u001b[39m_f\u001b[38;5;241m.\u001b[39mfunc_globals, \u001b[38;5;28mglobals\u001b[39m\u001b[38;5;241m=\u001b[39m\u001b[38;5;28mself\u001b[39m\u001b[38;5;241m.\u001b[39m_f\u001b[38;5;241m.\u001b[39mfunc_globals, \u001b[38;5;241m*\u001b[39m\u001b[38;5;241m*\u001b[39m\u001b[38;5;28mall\u001b[39m)\n",
      "File \u001b[0;32m~/Desktop/dev/env/env39/lib/python3.11/site-packages/Cython/Build/Inline.py:205\u001b[0m, in \u001b[0;36mcython_inline\u001b[0;34m(code, get_type, lib_dir, cython_include_dirs, cython_compiler_directives, force, quiet, locals, globals, language_level, **kwds)\u001b[0m\n\u001b[1;32m    203\u001b[0m     \u001b[38;5;28mglobals\u001b[39m \u001b[38;5;241m=\u001b[39m inspect\u001b[38;5;241m.\u001b[39mcurrentframe()\u001b[38;5;241m.\u001b[39mf_back\u001b[38;5;241m.\u001b[39mf_back\u001b[38;5;241m.\u001b[39mf_globals\n\u001b[1;32m    204\u001b[0m \u001b[38;5;28;01mtry\u001b[39;00m:\n\u001b[0;32m--> 205\u001b[0m     _cython_inline_cache[orig_code] \u001b[38;5;241m=\u001b[39m _unbound_symbols \u001b[38;5;241m=\u001b[39m \u001b[43munbound_symbols\u001b[49m\u001b[43m(\u001b[49m\u001b[43mcode\u001b[49m\u001b[43m)\u001b[49m\n\u001b[1;32m    206\u001b[0m     _populate_unbound(kwds, _unbound_symbols, \u001b[38;5;28mlocals\u001b[39m, \u001b[38;5;28mglobals\u001b[39m)\n\u001b[1;32m    207\u001b[0m \u001b[38;5;28;01mexcept\u001b[39;00m \u001b[38;5;167;01mAssertionError\u001b[39;00m:\n",
      "File \u001b[0;32m~/Desktop/dev/env/env39/lib/python3.11/site-packages/Cython/Utils.py:90\u001b[0m, in \u001b[0;36mCython.Utils.cached_function.wrapper\u001b[0;34m()\u001b[0m\n",
      "File \u001b[0;32m~/Desktop/dev/env/env39/lib/python3.11/site-packages/Cython/Build/Inline.py:75\u001b[0m, in \u001b[0;36munbound_symbols\u001b[0;34m(code, context)\u001b[0m\n\u001b[1;32m     72\u001b[0m     context \u001b[38;5;241m=\u001b[39m Context([], get_directive_defaults(),\n\u001b[1;32m     73\u001b[0m                       options\u001b[38;5;241m=\u001b[39mCompilationOptions(default_options))\n\u001b[1;32m     74\u001b[0m \u001b[38;5;28;01mfrom\u001b[39;00m \u001b[38;5;21;01m.\u001b[39;00m\u001b[38;5;21;01m.\u001b[39;00m\u001b[38;5;21;01mCompiler\u001b[39;00m\u001b[38;5;21;01m.\u001b[39;00m\u001b[38;5;21;01mParseTreeTransforms\u001b[39;00m \u001b[38;5;28;01mimport\u001b[39;00m AnalyseDeclarationsTransform\n\u001b[0;32m---> 75\u001b[0m tree \u001b[38;5;241m=\u001b[39m \u001b[43mparse_from_strings\u001b[49m\u001b[43m(\u001b[49m\u001b[38;5;124;43m'\u001b[39;49m\u001b[38;5;124;43m(tree fragment)\u001b[39;49m\u001b[38;5;124;43m'\u001b[39;49m\u001b[43m,\u001b[49m\u001b[43m \u001b[49m\u001b[43mcode\u001b[49m\u001b[43m)\u001b[49m\n\u001b[1;32m     76\u001b[0m \u001b[38;5;28;01mfor\u001b[39;00m phase \u001b[38;5;129;01min\u001b[39;00m Pipeline\u001b[38;5;241m.\u001b[39mcreate_pipeline(context, \u001b[38;5;124m'\u001b[39m\u001b[38;5;124mpyx\u001b[39m\u001b[38;5;124m'\u001b[39m):\n\u001b[1;32m     77\u001b[0m     \u001b[38;5;28;01mif\u001b[39;00m phase \u001b[38;5;129;01mis\u001b[39;00m \u001b[38;5;28;01mNone\u001b[39;00m:\n",
      "File \u001b[0;32m~/Desktop/dev/env/env39/lib/python3.11/site-packages/Cython/Compiler/TreeFragment.py:85\u001b[0m, in \u001b[0;36mparse_from_strings\u001b[0;34m(name, code, pxds, level, initial_pos, context, allow_struct_enum_decorator, in_utility_code)\u001b[0m\n\u001b[1;32m     82\u001b[0m ctx \u001b[38;5;241m=\u001b[39m Parsing\u001b[38;5;241m.\u001b[39mCtx(allow_struct_enum_decorator\u001b[38;5;241m=\u001b[39mallow_struct_enum_decorator)\n\u001b[1;32m     84\u001b[0m \u001b[38;5;28;01mif\u001b[39;00m level \u001b[38;5;129;01mis\u001b[39;00m \u001b[38;5;28;01mNone\u001b[39;00m:\n\u001b[0;32m---> 85\u001b[0m     tree \u001b[38;5;241m=\u001b[39m \u001b[43mParsing\u001b[49m\u001b[38;5;241;43m.\u001b[39;49m\u001b[43mp_module\u001b[49m\u001b[43m(\u001b[49m\u001b[43mscanner\u001b[49m\u001b[43m,\u001b[49m\u001b[43m \u001b[49m\u001b[38;5;241;43m0\u001b[39;49m\u001b[43m,\u001b[49m\u001b[43m \u001b[49m\u001b[43mmodule_name\u001b[49m\u001b[43m,\u001b[49m\u001b[43m \u001b[49m\u001b[43mctx\u001b[49m\u001b[38;5;241;43m=\u001b[39;49m\u001b[43mctx\u001b[49m\u001b[43m)\u001b[49m\n\u001b[1;32m     86\u001b[0m     tree\u001b[38;5;241m.\u001b[39mscope \u001b[38;5;241m=\u001b[39m scope\n\u001b[1;32m     87\u001b[0m     tree\u001b[38;5;241m.\u001b[39mis_pxd \u001b[38;5;241m=\u001b[39m \u001b[38;5;28;01mFalse\u001b[39;00m\n",
      "File \u001b[0;32m~/Desktop/dev/env/env39/lib/python3.11/site-packages/Cython/Compiler/Parsing.py:3910\u001b[0m, in \u001b[0;36mCython.Compiler.Parsing.p_module\u001b[0;34m()\u001b[0m\n",
      "File \u001b[0;32m~/Desktop/dev/env/env39/lib/python3.11/site-packages/Cython/Compiler/Parsing.py:3929\u001b[0m, in \u001b[0;36mCython.Compiler.Parsing.p_module\u001b[0;34m()\u001b[0m\n",
      "File \u001b[0;32m~/Desktop/dev/env/env39/lib/python3.11/site-packages/Cython/Compiler/Parsing.py:2460\u001b[0m, in \u001b[0;36mCython.Compiler.Parsing.p_statement_list\u001b[0;34m()\u001b[0m\n",
      "File \u001b[0;32m~/Desktop/dev/env/env39/lib/python3.11/site-packages/Cython/Compiler/Parsing.py:2452\u001b[0m, in \u001b[0;36mCython.Compiler.Parsing.p_statement\u001b[0;34m()\u001b[0m\n",
      "File \u001b[0;32m~/Desktop/dev/env/env39/lib/python3.11/site-packages/Cython/Compiler/Parsing.py:2290\u001b[0m, in \u001b[0;36mCython.Compiler.Parsing.p_simple_statement_list\u001b[0;34m()\u001b[0m\n",
      "File \u001b[0;32m~/Desktop/dev/env/env39/lib/python3.11/site-packages/Cython/Compiler/Scanning.py:538\u001b[0m, in \u001b[0;36mCython.Compiler.Scanning.PyrexScanner.expect_newline\u001b[0;34m()\u001b[0m\n",
      "File \u001b[0;32m~/Desktop/dev/env/env39/lib/python3.11/site-packages/Cython/Compiler/Scanning.py:507\u001b[0m, in \u001b[0;36mCython.Compiler.Scanning.PyrexScanner.expect\u001b[0;34m()\u001b[0m\n",
      "File \u001b[0;32m~/Desktop/dev/env/env39/lib/python3.11/site-packages/Cython/Compiler/Scanning.py:517\u001b[0m, in \u001b[0;36mCython.Compiler.Scanning.PyrexScanner.expected\u001b[0;34m()\u001b[0m\n",
      "File \u001b[0;32m~/Desktop/dev/env/env39/lib/python3.11/site-packages/Cython/Compiler/Scanning.py:495\u001b[0m, in \u001b[0;36mCython.Compiler.Scanning.PyrexScanner.error\u001b[0;34m()\u001b[0m\n",
      "\u001b[0;31mCompileError\u001b[0m: \nError compiling Cython file:\n------------------------------------------------------------\n...\ncython.int) -> cython.int:\n          ^\n------------------------------------------------------------\n\n(tree fragment):1:10: Syntax error in simple statement list"
     ]
    }
   ],
   "source": [
    "%%timeit \n",
    "ccsquare(1000)"
   ]
  },
  {
   "cell_type": "code",
   "execution_count": null,
   "metadata": {},
   "outputs": [],
   "source": [
    "%%cython\n",
    "\n",
    "a: cython.int = 0\n",
    "for i in range(10):\n",
    "    a += i\n",
    "print(a)"
   ]
  }
 ],
 "metadata": {
  "kernelspec": {
   "display_name": "env39",
   "language": "python",
   "name": "python3"
  },
  "language_info": {
   "codemirror_mode": {
    "name": "ipython",
    "version": 3
   },
   "file_extension": ".py",
   "mimetype": "text/x-python",
   "name": "python",
   "nbconvert_exporter": "python",
   "pygments_lexer": "ipython3",
   "version": "3.11.6"
  }
 },
 "nbformat": 4,
 "nbformat_minor": 2
}
